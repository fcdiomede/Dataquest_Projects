{
 "cells": [
  {
   "cell_type": "markdown",
   "metadata": {},
   "source": [
    "# Creating a Simple Version of the Pandas Library\n",
    "In this project, we will be creating a baby version of the Pandas class Wes McKinney created. The questions we are trying to answer are:  \n",
    " - Which song on Spotify had the higest number of plays in one day?\n",
    " - Which song on Spotify had the lowest number of plays in one day?"
   ]
  },
  {
   "cell_type": "markdown",
   "metadata": {},
   "source": [
    "### Requirements of BabyPandas Class\n",
    "BabyPandas (**Class**) should simplify the process of loading, previewing, manipulating, and making calculations (**Methods**) with our data (**Attribute**).  \n",
    "  \n",
    "Preview the data:  \n",
    " - View first five rows\n",
    " - View the shape of our data\n",
    " - View the data types for each column\n",
    " \n",
    "Manipulate the data:  \n",
    " - Add new columns\n",
    " - Apply values to the columns\n",
    " - Subset the data\n",
    " - Change data type \n",
    " \n",
    "Make calculations:  \n",
    " - Find maximum\n",
    " - Find minimum\n",
    " - Find mean\n",
    " - Fnd standard deviation"
   ]
  },
  {
   "cell_type": "markdown",
   "metadata": {},
   "source": [
    "##### Items Needed:\n",
    " - BabyPandas: **Class**\n",
    " - Load: **Method**\n",
    " - Filename: **Attribute**\n",
    " - Data: **Attribute**\n",
    " - Columns: **Attribute**\n",
    "  \n",
    "  \n",
    " - View first five rows: **Method**\n",
    " - View the shape of our data: **Method**\n",
    " - View the data types for each column: **Method**\n",
    "   \n",
    "   \n",
    " - Add new columns: **Method**\n",
    " - Apply values to the columns: **Method**\n",
    " - Subset the data: **Method**\n",
    " - Change data type: **Method**\n",
    "  \n",
    "  \n",
    " - Maximum: **Method**\n",
    " - Minimum: **Method**\n",
    " - Mean: **Method**\n",
    " - Standard deviation: **Method**"
   ]
  },
  {
   "cell_type": "markdown",
   "metadata": {},
   "source": [
    "### Creating The Class"
   ]
  },
  {
   "cell_type": "code",
   "execution_count": 1,
   "metadata": {
    "collapsed": false
   },
   "outputs": [],
   "source": [
    "import csv\n",
    "from statistics import mean, median, mode, stdev\n",
    "\n",
    "class BabyPandas():\n",
    "    def __init__(self, filename):\n",
    "        self.filename = filename\n",
    "    \n",
    "    def read_data(self):\n",
    "        f = open(self.filename, 'r')\n",
    "        csvreader = csv.reader(f)\n",
    "        self.data = list(csvreader)\n",
    "        self.columns = len(self.data[0])\n",
    "        \n",
    "    def head(self):\n",
    "        return self.data[:5]\n",
    "    \n",
    "    def info(self):\n",
    "        headers = list(self.data[0])\n",
    "        types = []\n",
    "        for value in self.data[1]:\n",
    "            types.append(type(value))\n",
    "        col_type = {}\n",
    "        for i in range(len(headers)):\n",
    "            col_type[headers[i]] = types[i]\n",
    "        return col_type\n",
    "    \n",
    "    def shape(self):\n",
    "        return (len(self.data[1:]), self.columns)\n",
    "    \n",
    "    def new_column(self, col_name):\n",
    "        self.data.append(col_name)\n",
    "        \n",
    "    def apply(self, column_name, new_value):\n",
    "        for pos, col in enumerate(self.data[0]):\n",
    "            if col == column_name:\n",
    "                column_index = pos\n",
    "        \n",
    "        for data in self.data[1:]:\n",
    "            data[column_index] = new_value\n",
    "            \n",
    "    def change_type(self, column_name, function):\n",
    "        for pos, col in enumerate(self.data[0]):\n",
    "            if col == column_name:\n",
    "                column_index = pos\n",
    "        \n",
    "        for data in self.data[1:]:\n",
    "            data[column_index] = function(data[column_index])\n",
    "            \n",
    "    def subset(self, column_name, row_value):\n",
    "        for pos, col in enumerate(self.data[0]):\n",
    "            if col == column_name:\n",
    "                column_index = pos\n",
    "        \n",
    "        subset_data = []\n",
    "        for data in self.data[1:]:\n",
    "            if row_value in data:\n",
    "                subset_data.append(data[column_index])\n",
    "        return subset_data\n",
    "\n",
    "    \n",
    "    def summary_stats(self, column_name):\n",
    "        for pos, col in enumerate(self.data[0]):\n",
    "            if col == column_name:\n",
    "                column_index = pos\n",
    "\n",
    "        num_data = list(data[column_index])\n",
    "        mean = mean(num_data)\n",
    "        std = stdev(num_data)\n",
    "        median = median(num_data)\n",
    "        \n",
    "        print(\"Mean is {mean}\".format(mean= mean))\n",
    "        print(\"Standard Deviation is {std}\".format(std= std))\n",
    "        print(\"Median is {median}\".format(median= median))\n",
    "        \n",
    "            \n",
    "    def minimum(self, column):\n",
    "        for pos, col in enumerate(self.data[0]):\n",
    "            if col == column:\n",
    "                column_index = pos\n",
    "\n",
    "        ## Find min value\n",
    "        col_data = []\n",
    "        for row in self.data[1:]:\n",
    "            col_data.append([row[1],row[2],row[column_index]])\n",
    "        \n",
    "        return min(col_data, key= lambda x: x[2])\n",
    "    \n",
    "    def maximum(self, column):\n",
    "        for pos, col in enumerate(self.data[0]):\n",
    "            if col == column:\n",
    "                column_index = pos\n",
    "        ## Find min value\n",
    "        col_data = []\n",
    "        for row in self.data[1:]:\n",
    "            col_data.append([row[1],row[2],row[column_index]])\n",
    "        return max(col_data, key= lambda x: x[2])\n"
   ]
  },
  {
   "cell_type": "code",
   "execution_count": 5,
   "metadata": {
    "collapsed": false
   },
   "outputs": [
    {
     "name": "stdout",
     "output_type": "stream",
     "text": [
      "{'': <class 'str'>, 'Streams': <class 'str'>, 'Track Name': <class 'str'>, 'Date': <class 'str'>, 'Region': <class 'str'>, 'Artist': <class 'str'>}\n",
      "(37100, 6)\n",
      "6\n",
      "['Despacito (Featuring Daddy Yankee)', 'Luis Fonsi', 64238]\n",
      "['Por Fin Te Encontré', 'Cali Y El Dandee', 1993]\n"
     ]
    }
   ],
   "source": [
    "s = BabyPandas(\"music_data.csv\")\n",
    "s.read_data()\n",
    "\n",
    "print(s.info())\n",
    "print(s.shape())\n",
    "print(s.columns)\n",
    "\n",
    "s.change_type('Streams',int)\n",
    "print(s.maximum(\"Streams\"))\n",
    "print(s.minimum(\"Streams\"))\n"
   ]
  },
  {
   "cell_type": "markdown",
   "metadata": {
    "collapsed": false
   },
   "source": [
    " - The song with the highest number of plays was Despacitio\n",
    " - The song with the lowest number of plays was Por Fin Te Encontre"
   ]
  },
  {
   "cell_type": "markdown",
   "metadata": {
    "collapsed": true
   },
   "source": [
    "### Next Steps\n",
    " - Could be interesting to subset the data by year or month and determine most popular song and artist by year and month"
   ]
  },
  {
   "cell_type": "code",
   "execution_count": null,
   "metadata": {
    "collapsed": true
   },
   "outputs": [],
   "source": []
  }
 ],
 "metadata": {
  "kernelspec": {
   "display_name": "Python 3",
   "language": "python",
   "name": "python3"
  },
  "language_info": {
   "codemirror_mode": {
    "name": "ipython",
    "version": 3
   },
   "file_extension": ".py",
   "mimetype": "text/x-python",
   "name": "python",
   "nbconvert_exporter": "python",
   "pygments_lexer": "ipython3",
   "version": "3.4.3"
  }
 },
 "nbformat": 4,
 "nbformat_minor": 2
}
