{
 "cells": [
  {
   "cell_type": "markdown",
   "metadata": {},
   "source": [
    "### Introduction to the Data: Births in the US"
   ]
  },
  {
   "cell_type": "code",
   "execution_count": 3,
   "metadata": {
    "collapsed": false
   },
   "outputs": [
    {
     "name": "stdout",
     "output_type": "stream",
     "text": [
      "['year,month,date_of_month,day_of_week,births', '1994,1,1,6,8096', '1994,1,2,7,7772', '1994,1,3,1,10142', '1994,1,4,2,11248', '1994,1,5,3,11053', '1994,1,6,4,11406', '1994,1,7,5,11251', '1994,1,8,6,8653', '1994,1,9,7,7910']\n"
     ]
    }
   ],
   "source": [
    "f = open(\"US_births_1994-2003_CDC_NCHS.csv\", \"r\")\n",
    "text = f.read()\n",
    "lines = text.split(\"\\n\")\n",
    "print(lines[0:10])"
   ]
  },
  {
   "cell_type": "markdown",
   "metadata": {},
   "source": [
    "### Convert Data Into List of Lists\n",
    "Data needs to be converted into list or list where each nested list contains integer values. Header row needs to be removed."
   ]
  },
  {
   "cell_type": "code",
   "execution_count": 4,
   "metadata": {
    "collapsed": true
   },
   "outputs": [],
   "source": [
    "def read_csv(csv_filename):\n",
    "    string_list = open(csv_filename, \"r\").read().split(\"\\n\")[1:]\n",
    "    final_list = []\n",
    "    \n",
    "\n",
    "    for item in string_list: \n",
    "        string_fields = item.split(\",\")\n",
    "        int_fields = []\n",
    "        for value in string_fields:\n",
    "            int_fields.append(int(value))\n",
    "        final_list.append(int_fields)\n",
    "    \n",
    "    return final_list "
   ]
  },
  {
   "cell_type": "code",
   "execution_count": 5,
   "metadata": {
    "collapsed": false
   },
   "outputs": [
    {
     "name": "stdout",
     "output_type": "stream",
     "text": [
      "[[1994, 1, 1, 6, 8096], [1994, 1, 2, 7, 7772], [1994, 1, 3, 1, 10142], [1994, 1, 4, 2, 11248], [1994, 1, 5, 3, 11053], [1994, 1, 6, 4, 11406], [1994, 1, 7, 5, 11251], [1994, 1, 8, 6, 8653], [1994, 1, 9, 7, 7910], [1994, 1, 10, 1, 10498]]\n"
     ]
    }
   ],
   "source": [
    "cdc_list = read_csv(\"US_births_1994-2003_CDC_NCHS.csv\")\n",
    "print(cdc_list[:10])"
   ]
  },
  {
   "cell_type": "markdown",
   "metadata": {},
   "source": [
    "### Analyzing total number of births that occured in each month"
   ]
  },
  {
   "cell_type": "code",
   "execution_count": 6,
   "metadata": {
    "collapsed": true
   },
   "outputs": [],
   "source": [
    "def month_births(birth_list):\n",
    "    births_per_month = {}\n",
    "    \n",
    "    for item in birth_list:\n",
    "        month = item[1]\n",
    "        birth_num = item[4]\n",
    "        if month in births_per_month:\n",
    "            births_per_month[month] += birth_num\n",
    "        else:\n",
    "            births_per_month[month] = birth_num\n",
    "            \n",
    "    return births_per_month"
   ]
  },
  {
   "cell_type": "code",
   "execution_count": 7,
   "metadata": {
    "collapsed": false
   },
   "outputs": [
    {
     "name": "stdout",
     "output_type": "stream",
     "text": [
      "{1: 3232517, 2: 3018140, 3: 3322069, 4: 3185314, 5: 3350907, 6: 3296530, 7: 3498783, 8: 3525858, 9: 3439698, 10: 3378814, 11: 3171647, 12: 3301860}\n"
     ]
    }
   ],
   "source": [
    "cdc_month_births = month_births(cdc_list)\n",
    "print(cdc_month_births)"
   ]
  },
  {
   "cell_type": "markdown",
   "metadata": {},
   "source": [
    "### Analyzing total number of births that occured each unique day of the week"
   ]
  },
  {
   "cell_type": "code",
   "execution_count": 8,
   "metadata": {
    "collapsed": false
   },
   "outputs": [],
   "source": [
    "def dow_births(birth_list):\n",
    "    births_per_dow = {}\n",
    "    \n",
    "    for item in birth_list:\n",
    "        dow = item[3]\n",
    "        birth_num = item[4]\n",
    "        if dow in births_per_dow:\n",
    "            births_per_dow[dow] += birth_num\n",
    "        else:\n",
    "            births_per_dow[dow] = birth_num\n",
    "            \n",
    "    return births_per_dow"
   ]
  },
  {
   "cell_type": "code",
   "execution_count": 9,
   "metadata": {
    "collapsed": false
   },
   "outputs": [
    {
     "name": "stdout",
     "output_type": "stream",
     "text": [
      "{1: 5789166, 2: 6446196, 3: 6322855, 4: 6288429, 5: 6233657, 6: 4562111, 7: 4079723}\n"
     ]
    }
   ],
   "source": [
    "cdc_day_births = dow_births(cdc_list)\n",
    "print(cdc_day_births)"
   ]
  },
  {
   "cell_type": "markdown",
   "metadata": {},
   "source": [
    "### Generalizing the Function"
   ]
  },
  {
   "cell_type": "code",
   "execution_count": 10,
   "metadata": {
    "collapsed": false
   },
   "outputs": [],
   "source": [
    "def calc_counts(data, column):\n",
    "    totals = {}\n",
    "    \n",
    "    for item in data:\n",
    "        parameter = item[column]\n",
    "        num = item[4]\n",
    "        if parameter in totals:\n",
    "            totals[parameter] += num\n",
    "        else:\n",
    "            totals[parameter] = num\n",
    "            \n",
    "    return totals"
   ]
  },
  {
   "cell_type": "code",
   "execution_count": 11,
   "metadata": {
    "collapsed": false
   },
   "outputs": [],
   "source": [
    "cdc_year_births = calc_counts(cdc_list, 0)\n",
    "cdc_month_births = calc_counts(cdc_list, 1)\n",
    "cdc_dom_births = calc_counts(cdc_list, 2)\n",
    "cdc_dow_births = calc_counts(cdc_list, 3)"
   ]
  },
  {
   "cell_type": "code",
   "execution_count": 12,
   "metadata": {
    "collapsed": false
   },
   "outputs": [
    {
     "data": {
      "text/plain": [
       "{1994: 3952767,\n",
       " 1995: 3899589,\n",
       " 1996: 3891494,\n",
       " 1997: 3880894,\n",
       " 1998: 3941553,\n",
       " 1999: 3959417,\n",
       " 2000: 4058814,\n",
       " 2001: 4025933,\n",
       " 2002: 4021726,\n",
       " 2003: 4089950}"
      ]
     },
     "execution_count": 12,
     "metadata": {},
     "output_type": "execute_result"
    }
   ],
   "source": [
    "cdc_year_births"
   ]
  },
  {
   "cell_type": "code",
   "execution_count": 13,
   "metadata": {
    "collapsed": false
   },
   "outputs": [
    {
     "data": {
      "text/plain": [
       "{1: 3232517,\n",
       " 2: 3018140,\n",
       " 3: 3322069,\n",
       " 4: 3185314,\n",
       " 5: 3350907,\n",
       " 6: 3296530,\n",
       " 7: 3498783,\n",
       " 8: 3525858,\n",
       " 9: 3439698,\n",
       " 10: 3378814,\n",
       " 11: 3171647,\n",
       " 12: 3301860}"
      ]
     },
     "execution_count": 13,
     "metadata": {},
     "output_type": "execute_result"
    }
   ],
   "source": [
    "cdc_month_births"
   ]
  },
  {
   "cell_type": "code",
   "execution_count": 14,
   "metadata": {
    "collapsed": false
   },
   "outputs": [
    {
     "data": {
      "text/plain": [
       "{1: 1276557,\n",
       " 2: 1288739,\n",
       " 3: 1304499,\n",
       " 4: 1288154,\n",
       " 5: 1299953,\n",
       " 6: 1304474,\n",
       " 7: 1310459,\n",
       " 8: 1312297,\n",
       " 9: 1303292,\n",
       " 10: 1320764,\n",
       " 11: 1314361,\n",
       " 12: 1318437,\n",
       " 13: 1277684,\n",
       " 14: 1320153,\n",
       " 15: 1319171,\n",
       " 16: 1315192,\n",
       " 17: 1324953,\n",
       " 18: 1326855,\n",
       " 19: 1318727,\n",
       " 20: 1324821,\n",
       " 21: 1322897,\n",
       " 22: 1317381,\n",
       " 23: 1293290,\n",
       " 24: 1288083,\n",
       " 25: 1272116,\n",
       " 26: 1284796,\n",
       " 27: 1294395,\n",
       " 28: 1307685,\n",
       " 29: 1223161,\n",
       " 30: 1202095,\n",
       " 31: 746696}"
      ]
     },
     "execution_count": 14,
     "metadata": {},
     "output_type": "execute_result"
    }
   ],
   "source": [
    "cdc_dom_births"
   ]
  },
  {
   "cell_type": "code",
   "execution_count": 15,
   "metadata": {
    "collapsed": false
   },
   "outputs": [
    {
     "data": {
      "text/plain": [
       "{1: 5789166,\n",
       " 2: 6446196,\n",
       " 3: 6322855,\n",
       " 4: 6288429,\n",
       " 5: 6233657,\n",
       " 6: 4562111,\n",
       " 7: 4079723}"
      ]
     },
     "execution_count": 15,
     "metadata": {},
     "output_type": "execute_result"
    }
   ],
   "source": [
    "cdc_dow_births"
   ]
  },
  {
   "cell_type": "markdown",
   "metadata": {
    "collapsed": true
   },
   "source": [
    "### Calculating Min and Max of Dictionaries"
   ]
  },
  {
   "cell_type": "code",
   "execution_count": 16,
   "metadata": {
    "collapsed": false
   },
   "outputs": [],
   "source": [
    "def min_max(dictionary):\n",
    "    minimum = min(dictionary.values())\n",
    "    maximum = max(dictionary.values())\n",
    "    min_and_max = [minimum, maximum]\n",
    "    return min_and_max"
   ]
  },
  {
   "cell_type": "code",
   "execution_count": 17,
   "metadata": {
    "collapsed": false
   },
   "outputs": [
    {
     "name": "stdout",
     "output_type": "stream",
     "text": [
      "[4079723, 6446196]\n"
     ]
    }
   ],
   "source": [
    "min_max_dow = min_max(cdc_dow_births)\n",
    "print(min_max_dow)"
   ]
  },
  {
   "cell_type": "markdown",
   "metadata": {},
   "source": [
    "### Calculating Differences Across Years"
   ]
  },
  {
   "cell_type": "code",
   "execution_count": 68,
   "metadata": {
    "collapsed": true
   },
   "outputs": [],
   "source": [
    "def year_differences(year_birth_dict):\n",
    "    previous_year = 0\n",
    "    previous_total = 0\n",
    "    for key, value in sorted(year_birth_dict.items()):\n",
    "        current_year = key\n",
    "        current_total = value\n",
    "        difference = 0\n",
    "        if previous_year == 0:\n",
    "            print(\"Birth change from previous year to \" + str(current_year) + \n",
    "                  \" not available.\")\n",
    "        elif current_total > previous_total:\n",
    "            difference = current_total - previous_total\n",
    "            print(\"From \" + str(previous_year) + \" to \" + str(current_year) + \n",
    "                 \" births grew by \" + str(difference))\n",
    "        elif current_total < previous_total:\n",
    "            difference =  previous_total - current_total\n",
    "            print(\"From \" + str(previous_year) + \" to \" + str(current_year) + \n",
    "                 \" births decreased by \" + str(difference))\n",
    "        previous_year = current_year\n",
    "        previous_total = current_total"
   ]
  },
  {
   "cell_type": "code",
   "execution_count": 69,
   "metadata": {
    "collapsed": false
   },
   "outputs": [
    {
     "name": "stdout",
     "output_type": "stream",
     "text": [
      "Birth change from previous year to 1994 not available.\n",
      "From 1994 to 1995 births decreased by 53178\n",
      "From 1995 to 1996 births decreased by 8095\n",
      "From 1996 to 1997 births decreased by 10600\n",
      "From 1997 to 1998 births grew by 60659\n",
      "From 1998 to 1999 births grew by 17864\n",
      "From 1999 to 2000 births grew by 99397\n",
      "From 2000 to 2001 births decreased by 32881\n",
      "From 2001 to 2002 births decreased by 4207\n",
      "From 2002 to 2003 births grew by 68224\n"
     ]
    }
   ],
   "source": [
    "year_differences(cdc_year_births)"
   ]
  },
  {
   "cell_type": "markdown",
   "metadata": {},
   "source": [
    "#### Generalizing Difference Calculation"
   ]
  },
  {
   "cell_type": "code",
   "execution_count": 66,
   "metadata": {
    "collapsed": false
   },
   "outputs": [],
   "source": [
    "def cross_year_differences(data, col=0):\n",
    "    previous_year = 0\n",
    "    previous_total = 0\n",
    "    parameters = []\n",
    "    \n",
    "    #acquire list of what parameter is needed for differences across years\n",
    "    for item in data:\n",
    "        parameter = item[col]\n",
    "        if parameter not in parameters:\n",
    "            parameters.append(parameter)\n",
    "    print(parameters)  \n",
    "    \n",
    "    #calculate total for each year for each parameter\n",
    "    for value in sorted(parameters):\n",
    "        births_per_parameter = {}\n",
    "        for item in data:\n",
    "            year = item[0]\n",
    "            total = item[4]\n",
    "            if item[col] == value:\n",
    "                if year in births_per_parameter:\n",
    "                    births_per_parameter[year] += total\n",
    "                else:\n",
    "                    births_per_parameter[year] = total\n",
    "        print(\"For \" + str(value) + \":\")   \n",
    "        #skip resetting previous year values if only interested in year differences\n",
    "        if col != 0:\n",
    "            previous_year = 0\n",
    "            previous_total = 0\n",
    "        \n",
    "        #display results and calucate differences in consecutive years\n",
    "        for key, value in sorted(births_per_parameter.items()):\n",
    "            current_year = key\n",
    "            current_total = value\n",
    "            difference = 0\n",
    "            if previous_year == 0:\n",
    "                print(\"Birth change from previous year to \" + str(current_year) + \n",
    "                          \" not available.\")\n",
    "            elif current_total > previous_total:\n",
    "                difference = current_total - previous_total\n",
    "                print(\"From \" + str(previous_year) + \" to \" + str(current_year) + \n",
    "                         \" births grew by \" + str(difference))\n",
    "            elif current_total < previous_total:\n",
    "                difference =  previous_total - current_total\n",
    "                print(\"From \" + str(previous_year) + \" to \" + str(current_year) + \n",
    "                         \" births decreased by \" + str(difference))\n",
    "            previous_year = current_year\n",
    "            previous_total = current_total\n",
    "\n",
    "        "
   ]
  },
  {
   "cell_type": "code",
   "execution_count": 57,
   "metadata": {
    "collapsed": false
   },
   "outputs": [
    {
     "name": "stdout",
     "output_type": "stream",
     "text": [
      "[1, 2, 3, 4, 5, 6, 7, 8, 9, 10, 11, 12]\n",
      "For 1:\n",
      "Birth change from previous year to 1994 not available.\n",
      "From 1994 to 1995 births decreased by 4692\n",
      "From 1995 to 1996 births decreased by 1730\n",
      "From 1996 to 1997 births grew by 2928\n",
      "From 1997 to 1998 births grew by 2129\n",
      "From 1998 to 1999 births decreased by 158\n",
      "From 1999 to 2000 births grew by 10926\n",
      "From 2000 to 2001 births grew by 5090\n",
      "From 2001 to 2002 births decreased by 4524\n",
      "From 2002 to 2003 births decreased by 871\n",
      "For 2:\n",
      "Birth change from previous year to 1994 not available.\n",
      "From 1994 to 1995 births decreased by 6233\n",
      "From 1995 to 1996 births grew by 6669\n",
      "From 1996 to 1997 births decreased by 10222\n",
      "From 1997 to 1998 births grew by 7170\n",
      "From 1998 to 1999 births decreased by 1143\n",
      "From 1999 to 2000 births grew by 19809\n",
      "From 2000 to 2001 births decreased by 13843\n",
      "From 2001 to 2002 births grew by 443\n",
      "From 2002 to 2003 births grew by 3271\n",
      "For 3:\n",
      "Birth change from previous year to 1994 not available.\n",
      "From 1994 to 1995 births decreased by 11233\n",
      "From 1995 to 1996 births decreased by 5922\n",
      "From 1996 to 1997 births decreased by 1369\n",
      "From 1997 to 1998 births grew by 8224\n",
      "From 1998 to 1999 births grew by 3503\n",
      "From 1999 to 2000 births grew by 7614\n",
      "From 2000 to 2001 births decreased by 1869\n",
      "From 2001 to 2002 births decreased by 7179\n",
      "From 2002 to 2003 births grew by 5415\n",
      "For 4:\n",
      "Birth change from previous year to 1994 not available.\n",
      "From 1994 to 1995 births decreased by 8273\n",
      "From 1995 to 1996 births grew by 3476\n",
      "From 1996 to 1997 births grew by 1635\n",
      "From 1997 to 1998 births grew by 5528\n",
      "From 1998 to 1999 births decreased by 2869\n",
      "From 1999 to 2000 births grew by 291\n",
      "From 2000 to 2001 births grew by 6433\n",
      "From 2001 to 2002 births grew by 819\n",
      "From 2002 to 2003 births grew by 5674\n",
      "For 5:\n",
      "Birth change from previous year to 1994 not available.\n",
      "From 1994 to 1995 births grew by 4248\n",
      "From 1995 to 1996 births decreased by 8835\n",
      "From 1996 to 1997 births grew by 4623\n",
      "From 1997 to 1998 births grew by 188\n",
      "From 1998 to 1999 births decreased by 1993\n",
      "From 1999 to 2000 births grew by 12681\n",
      "From 2000 to 2001 births grew by 2810\n",
      "From 2001 to 2002 births decreased by 5010\n",
      "From 2002 to 2003 births grew by 7747\n",
      "For 6:\n",
      "Birth change from previous year to 1994 not available.\n",
      "From 1994 to 1995 births grew by 68\n",
      "From 1995 to 1996 births decreased by 11280\n",
      "From 1996 to 1997 births grew by 3342\n",
      "From 1997 to 1998 births grew by 5224\n",
      "From 1998 to 1999 births grew by 5110\n",
      "From 1999 to 2000 births grew by 9005\n",
      "From 2000 to 2001 births decreased by 10121\n",
      "From 2001 to 2002 births decreased by 3497\n",
      "From 2002 to 2003 births grew by 9837\n",
      "For 7:\n",
      "Birth change from previous year to 1994 not available.\n",
      "From 1994 to 1995 births decreased by 4989\n",
      "From 1995 to 1996 births grew by 4289\n",
      "From 1996 to 1997 births grew by 1344\n",
      "From 1997 to 1998 births grew by 2145\n",
      "From 1998 to 1999 births grew by 1161\n",
      "From 1999 to 2000 births decreased by 837\n",
      "From 2000 to 2001 births grew by 2072\n",
      "From 2001 to 2002 births grew by 6622\n",
      "From 2002 to 2003 births grew by 6557\n",
      "For 8:\n",
      "Birth change from previous year to 1994 not available.\n",
      "From 1994 to 1995 births decreased by 1436\n",
      "From 1995 to 1996 births decreased by 4420\n",
      "From 1996 to 1997 births decreased by 7195\n",
      "From 1997 to 1998 births grew by 5614\n",
      "From 1998 to 1999 births grew by 6635\n",
      "From 1999 to 2000 births grew by 8709\n",
      "From 2000 to 2001 births grew by 1722\n",
      "From 2001 to 2002 births decreased by 2385\n",
      "From 2002 to 2003 births grew by 686\n",
      "For 9:\n",
      "Birth change from previous year to 1994 not available.\n",
      "From 1994 to 1995 births decreased by 120\n",
      "From 1995 to 1996 births decreased by 2755\n",
      "From 1996 to 1997 births decreased by 2748\n",
      "From 1997 to 1998 births grew by 9784\n",
      "From 1998 to 1999 births grew by 6025\n",
      "From 1999 to 2000 births decreased by 1800\n",
      "From 2000 to 2001 births decreased by 5045\n",
      "From 2001 to 2002 births grew by 6250\n",
      "From 2002 to 2003 births grew by 10830\n",
      "For 10:\n",
      "Birth change from previous year to 1994 not available.\n",
      "From 1994 to 1995 births decreased by 160\n",
      "From 1995 to 1996 births grew by 6334\n",
      "From 1996 to 1997 births decreased by 7689\n",
      "From 1997 to 1998 births grew by 4133\n",
      "From 1998 to 1999 births grew by 190\n",
      "From 1999 to 2000 births grew by 10941\n",
      "From 2000 to 2001 births grew by 153\n",
      "From 2001 to 2002 births grew by 1740\n",
      "From 2002 to 2003 births grew by 8234\n",
      "For 11:\n",
      "Birth change from previous year to 1994 not available.\n",
      "From 1994 to 1995 births decreased by 8580\n",
      "From 1995 to 1996 births decreased by 1420\n",
      "From 1996 to 1997 births decreased by 2115\n",
      "From 1997 to 1998 births grew by 5959\n",
      "From 1998 to 1999 births grew by 2048\n",
      "From 1999 to 2000 births grew by 18522\n",
      "From 2000 to 2001 births decreased by 10065\n",
      "From 2001 to 2002 births decreased by 5173\n",
      "From 2002 to 2003 births grew by 1521\n",
      "For 12:\n",
      "Birth change from previous year to 1994 not available.\n",
      "From 1994 to 1995 births decreased by 11778\n",
      "From 1995 to 1996 births grew by 7499\n",
      "From 1996 to 1997 births grew by 6866\n",
      "From 1997 to 1998 births grew by 4561\n",
      "From 1998 to 1999 births decreased by 645\n",
      "From 1999 to 2000 births grew by 3536\n",
      "From 2000 to 2001 births decreased by 10218\n",
      "From 2001 to 2002 births grew by 7687\n",
      "From 2002 to 2003 births grew by 9323\n"
     ]
    }
   ],
   "source": [
    "#difference in each month per year\n",
    "cross_year_differences(cdc_list,1)"
   ]
  },
  {
   "cell_type": "code",
   "execution_count": 58,
   "metadata": {
    "collapsed": false
   },
   "outputs": [
    {
     "name": "stdout",
     "output_type": "stream",
     "text": [
      "[1, 2, 3, 4, 5, 6, 7, 8, 9, 10, 11, 12, 13, 14, 15, 16, 17, 18, 19, 20, 21, 22, 23, 24, 25, 26, 27, 28, 29, 30, 31]\n",
      "For 1:\n",
      "Birth change from previous year to 1994 not available.\n",
      "From 1994 to 1995 births decreased by 4520\n",
      "From 1995 to 1996 births decreased by 2389\n",
      "From 1996 to 1997 births decreased by 4745\n",
      "From 1997 to 1998 births grew by 3585\n",
      "From 1998 to 1999 births grew by 6043\n",
      "From 1999 to 2000 births grew by 4070\n",
      "From 2000 to 2001 births decreased by 8062\n",
      "From 2001 to 2002 births grew by 2226\n",
      "From 2002 to 2003 births decreased by 3857\n",
      "For 2:\n",
      "Birth change from previous year to 1994 not available.\n",
      "From 1994 to 1995 births decreased by 4872\n",
      "From 1995 to 1996 births grew by 2576\n",
      "From 1996 to 1997 births decreased by 1829\n",
      "From 1997 to 1998 births grew by 7479\n",
      "From 1998 to 1999 births grew by 2029\n",
      "From 1999 to 2000 births decreased by 6624\n",
      "From 2000 to 2001 births grew by 5204\n",
      "From 2001 to 2002 births decreased by 5048\n",
      "From 2002 to 2003 births grew by 3863\n",
      "For 3:\n",
      "Birth change from previous year to 1994 not available.\n",
      "From 1994 to 1995 births grew by 621\n",
      "From 1995 to 1996 births decreased by 689\n",
      "From 1996 to 1997 births grew by 6734\n",
      "From 1997 to 1998 births decreased by 1737\n",
      "From 1998 to 1999 births decreased by 2534\n",
      "From 1999 to 2000 births grew by 3452\n",
      "From 2000 to 2001 births decreased by 3953\n",
      "From 2001 to 2002 births grew by 1902\n",
      "From 2002 to 2003 births grew by 12493\n",
      "For 4:\n",
      "Birth change from previous year to 1994 not available.\n",
      "From 1994 to 1995 births decreased by 7224\n",
      "From 1995 to 1996 births grew by 5623\n",
      "From 1996 to 1997 births grew by 2235\n",
      "From 1997 to 1998 births decreased by 1249\n",
      "From 1998 to 1999 births decreased by 1149\n",
      "From 1999 to 2000 births grew by 2373\n",
      "From 2000 to 2001 births decreased by 2615\n",
      "From 2001 to 2002 births grew by 8072\n",
      "From 2002 to 2003 births grew by 639\n",
      "For 5:\n",
      "Birth change from previous year to 1994 not available.\n",
      "From 1994 to 1995 births grew by 447\n",
      "From 1995 to 1996 births grew by 5499\n",
      "From 1996 to 1997 births decreased by 5214\n",
      "From 1997 to 1998 births grew by 157\n",
      "From 1998 to 1999 births grew by 2727\n",
      "From 1999 to 2000 births grew by 1699\n",
      "From 2000 to 2001 births grew by 8067\n",
      "From 2001 to 2002 births decreased by 3091\n",
      "From 2002 to 2003 births decreased by 3746\n",
      "For 6:\n",
      "Birth change from previous year to 1994 not available.\n",
      "From 1994 to 1995 births grew by 4387\n",
      "From 1995 to 1996 births decreased by 5620\n",
      "From 1996 to 1997 births decreased by 3392\n",
      "From 1997 to 1998 births grew by 6452\n",
      "From 1998 to 1999 births decreased by 5418\n",
      "From 1999 to 2000 births grew by 10606\n",
      "From 2000 to 2001 births grew by 1289\n",
      "From 2001 to 2002 births decreased by 6887\n",
      "From 2002 to 2003 births grew by 966\n",
      "For 7:\n",
      "Birth change from previous year to 1994 not available.\n",
      "From 1994 to 1995 births decreased by 1595\n",
      "From 1995 to 1996 births decreased by 10494\n",
      "From 1996 to 1997 births grew by 6785\n",
      "From 1997 to 1998 births decreased by 3917\n",
      "From 1998 to 1999 births grew by 3147\n",
      "From 1999 to 2000 births grew by 11338\n",
      "From 2000 to 2001 births decreased by 8396\n",
      "From 2001 to 2002 births decreased by 1890\n",
      "From 2002 to 2003 births grew by 6364\n",
      "For 8:\n",
      "Birth change from previous year to 1994 not available.\n",
      "From 1994 to 1995 births decreased by 6024\n",
      "From 1995 to 1996 births decreased by 45\n",
      "From 1996 to 1997 births decreased by 1186\n",
      "From 1997 to 1998 births grew by 1303\n",
      "From 1998 to 1999 births grew by 8106\n",
      "From 1999 to 2000 births decreased by 1333\n",
      "From 2000 to 2001 births decreased by 4500\n",
      "From 2001 to 2002 births grew by 3728\n",
      "From 2002 to 2003 births grew by 603\n",
      "For 9:\n",
      "Birth change from previous year to 1994 not available.\n",
      "From 1994 to 1995 births decreased by 3112\n",
      "From 1995 to 1996 births grew by 4799\n",
      "From 1996 to 1997 births decreased by 5104\n",
      "From 1997 to 1998 births grew by 9977\n",
      "From 1998 to 1999 births decreased by 104\n",
      "From 1999 to 2000 births decreased by 7274\n",
      "From 2000 to 2001 births grew by 6194\n",
      "From 2001 to 2002 births decreased by 2393\n",
      "From 2002 to 2003 births grew by 684\n",
      "For 10:\n",
      "Birth change from previous year to 1994 not available.\n",
      "From 1994 to 1995 births grew by 2217\n",
      "From 1995 to 1996 births decreased by 3039\n",
      "From 1996 to 1997 births grew by 5134\n",
      "From 1997 to 1998 births grew by 1475\n",
      "From 1998 to 1999 births decreased by 4097\n",
      "From 1999 to 2000 births grew by 4632\n",
      "From 2000 to 2001 births decreased by 1183\n",
      "From 2001 to 2002 births decreased by 1535\n",
      "From 2002 to 2003 births grew by 10861\n",
      "For 11:\n",
      "Birth change from previous year to 1994 not available.\n",
      "From 1994 to 1995 births decreased by 2147\n",
      "From 1995 to 1996 births grew by 556\n",
      "From 1996 to 1997 births grew by 2458\n",
      "From 1997 to 1998 births decreased by 2934\n",
      "From 1998 to 1999 births grew by 280\n",
      "From 1999 to 2000 births grew by 8710\n",
      "From 2000 to 2001 births decreased by 6211\n",
      "From 2001 to 2002 births grew by 5589\n",
      "From 2002 to 2003 births grew by 1749\n",
      "For 12:\n",
      "Birth change from previous year to 1994 not available.\n",
      "From 1994 to 1995 births decreased by 2442\n",
      "From 1995 to 1996 births grew by 5166\n",
      "From 1996 to 1997 births decreased by 6176\n",
      "From 1997 to 1998 births grew by 857\n",
      "From 1998 to 1999 births grew by 4675\n",
      "From 1999 to 2000 births grew by 1011\n",
      "From 2000 to 2001 births grew by 6536\n",
      "From 2001 to 2002 births decreased by 2400\n",
      "From 2002 to 2003 births decreased by 3530\n",
      "For 13:\n",
      "Birth change from previous year to 1994 not available.\n",
      "From 1994 to 1995 births grew by 3305\n",
      "From 1995 to 1996 births decreased by 4923\n",
      "From 1996 to 1997 births decreased by 2306\n",
      "From 1997 to 1998 births grew by 4694\n",
      "From 1998 to 1999 births decreased by 185\n",
      "From 1999 to 2000 births grew by 4635\n",
      "From 2000 to 2001 births grew by 367\n",
      "From 2001 to 2002 births decreased by 3769\n",
      "From 2002 to 2003 births grew by 333\n",
      "For 14:\n",
      "Birth change from previous year to 1994 not available.\n",
      "From 1994 to 1995 births decreased by 3098\n",
      "From 1995 to 1996 births decreased by 9100\n",
      "From 1996 to 1997 births grew by 6013\n",
      "From 1997 to 1998 births grew by 999\n",
      "From 1998 to 1999 births decreased by 1578\n",
      "From 1999 to 2000 births grew by 11617\n",
      "From 2000 to 2001 births decreased by 8198\n",
      "From 2001 to 2002 births decreased by 1331\n",
      "From 2002 to 2003 births grew by 6208\n",
      "For 15:\n",
      "Birth change from previous year to 1994 not available.\n",
      "From 1994 to 1995 births decreased by 5493\n",
      "From 1995 to 1996 births decreased by 1134\n",
      "From 1996 to 1997 births decreased by 535\n",
      "From 1997 to 1998 births grew by 1968\n",
      "From 1998 to 1999 births grew by 5754\n",
      "From 1999 to 2000 births decreased by 984\n",
      "From 2000 to 2001 births decreased by 4031\n",
      "From 2001 to 2002 births grew by 4275\n",
      "From 2002 to 2003 births decreased by 104\n",
      "For 16:\n",
      "Birth change from previous year to 1994 not available.\n",
      "From 1994 to 1995 births decreased by 4213\n",
      "From 1995 to 1996 births grew by 5362\n",
      "From 1996 to 1997 births decreased by 4341\n",
      "From 1997 to 1998 births grew by 7246\n",
      "From 1998 to 1999 births decreased by 356\n",
      "From 1999 to 2000 births decreased by 5379\n",
      "From 2000 to 2001 births grew by 5472\n",
      "From 2001 to 2002 births decreased by 1633\n",
      "From 2002 to 2003 births grew by 1490\n",
      "For 17:\n",
      "Birth change from previous year to 1994 not available.\n",
      "From 1994 to 1995 births grew by 1531\n",
      "From 1995 to 1996 births decreased by 1683\n",
      "From 1996 to 1997 births grew by 4224\n",
      "From 1997 to 1998 births grew by 2126\n",
      "From 1998 to 1999 births decreased by 4502\n",
      "From 1999 to 2000 births grew by 3737\n",
      "From 2000 to 2001 births decreased by 493\n",
      "From 2001 to 2002 births decreased by 2373\n",
      "From 2002 to 2003 births grew by 9661\n",
      "For 18:\n",
      "Birth change from previous year to 1994 not available.\n",
      "From 1994 to 1995 births decreased by 3001\n",
      "From 1995 to 1996 births grew by 1526\n",
      "From 1996 to 1997 births grew by 1540\n",
      "From 1997 to 1998 births decreased by 890\n",
      "From 1998 to 1999 births decreased by 2002\n",
      "From 1999 to 2000 births grew by 9334\n",
      "From 2000 to 2001 births decreased by 6412\n",
      "From 2001 to 2002 births grew by 7827\n",
      "From 2002 to 2003 births grew by 302\n",
      "For 19:\n",
      "Birth change from previous year to 1994 not available.\n",
      "From 1994 to 1995 births decreased by 1528\n",
      "From 1995 to 1996 births grew by 5259\n",
      "From 1996 to 1997 births decreased by 4713\n",
      "From 1997 to 1998 births decreased by 797\n",
      "From 1998 to 1999 births grew by 4120\n",
      "From 1999 to 2000 births grew by 1444\n",
      "From 2000 to 2001 births grew by 5494\n",
      "From 2001 to 2002 births decreased by 1302\n",
      "From 2002 to 2003 births decreased by 3084\n",
      "For 20:\n",
      "Birth change from previous year to 1994 not available.\n",
      "From 1994 to 1995 births grew by 3288\n",
      "From 1995 to 1996 births decreased by 4505\n",
      "From 1996 to 1997 births decreased by 2446\n",
      "From 1997 to 1998 births grew by 5355\n",
      "From 1998 to 1999 births decreased by 740\n",
      "From 1999 to 2000 births grew by 5707\n",
      "From 2000 to 2001 births grew by 1870\n",
      "From 2001 to 2002 births decreased by 5675\n",
      "From 2002 to 2003 births decreased by 1037\n",
      "For 21:\n",
      "Birth change from previous year to 1994 not available.\n",
      "From 1994 to 1995 births decreased by 2025\n",
      "From 1995 to 1996 births decreased by 9714\n",
      "From 1996 to 1997 births grew by 5952\n",
      "From 1997 to 1998 births grew by 1639\n",
      "From 1998 to 1999 births decreased by 818\n",
      "From 1999 to 2000 births grew by 8411\n",
      "From 2000 to 2001 births decreased by 6419\n",
      "From 2001 to 2002 births decreased by 2088\n",
      "From 2002 to 2003 births grew by 6945\n",
      "For 22:\n",
      "Birth change from previous year to 1994 not available.\n",
      "From 1994 to 1995 births decreased by 6887\n",
      "From 1995 to 1996 births grew by 1267\n",
      "From 1996 to 1997 births grew by 837\n",
      "From 1997 to 1998 births decreased by 148\n",
      "From 1998 to 1999 births grew by 6501\n",
      "From 1999 to 2000 births decreased by 3990\n",
      "From 2000 to 2001 births decreased by 6209\n",
      "From 2001 to 2002 births grew by 9022\n",
      "From 2002 to 2003 births grew by 885\n",
      "For 23:\n",
      "Birth change from previous year to 1994 not available.\n",
      "From 1994 to 1995 births decreased by 4731\n",
      "From 1995 to 1996 births grew by 7933\n",
      "From 1996 to 1997 births decreased by 3514\n",
      "From 1997 to 1998 births grew by 7212\n",
      "From 1998 to 1999 births decreased by 959\n",
      "From 1999 to 2000 births decreased by 11096\n",
      "From 2000 to 2001 births grew by 8781\n",
      "From 2001 to 2002 births grew by 1445\n",
      "From 2002 to 2003 births grew by 567\n",
      "For 24:\n",
      "Birth change from previous year to 1994 not available.\n",
      "From 1994 to 1995 births grew by 2362\n",
      "From 1995 to 1996 births decreased by 2552\n",
      "From 1996 to 1997 births grew by 5724\n",
      "From 1997 to 1998 births grew by 622\n",
      "From 1998 to 1999 births decreased by 5663\n",
      "From 1999 to 2000 births grew by 4678\n",
      "From 2000 to 2001 births decreased by 1638\n",
      "From 2001 to 2002 births decreased by 401\n",
      "From 2002 to 2003 births grew by 10410\n",
      "For 25:\n",
      "Birth change from previous year to 1994 not available.\n",
      "From 1994 to 1995 births decreased by 4649\n",
      "From 1995 to 1996 births grew by 1506\n",
      "From 1996 to 1997 births grew by 1818\n",
      "From 1997 to 1998 births decreased by 7073\n",
      "From 1998 to 1999 births grew by 1930\n",
      "From 1999 to 2000 births grew by 9146\n",
      "From 2000 to 2001 births decreased by 5867\n",
      "From 2001 to 2002 births grew by 8184\n",
      "From 2002 to 2003 births grew by 300\n",
      "For 26:\n",
      "Birth change from previous year to 1994 not available.\n",
      "From 1994 to 1995 births decreased by 1987\n",
      "From 1995 to 1996 births grew by 7189\n",
      "From 1996 to 1997 births decreased by 9593\n",
      "From 1997 to 1998 births decreased by 377\n",
      "From 1998 to 1999 births grew by 6211\n",
      "From 1999 to 2000 births grew by 1956\n",
      "From 2000 to 2001 births grew by 5713\n",
      "From 2001 to 2002 births decreased by 777\n",
      "From 2002 to 2003 births decreased by 8424\n",
      "For 27:\n",
      "Birth change from previous year to 1994 not available.\n",
      "From 1994 to 1995 births grew by 5175\n",
      "From 1995 to 1996 births decreased by 7030\n",
      "From 1996 to 1997 births decreased by 4952\n",
      "From 1997 to 1998 births grew by 7466\n",
      "From 1998 to 1999 births grew by 1492\n",
      "From 1999 to 2000 births grew by 5645\n",
      "From 2000 to 2001 births grew by 1696\n",
      "From 2001 to 2002 births decreased by 9059\n",
      "From 2002 to 2003 births decreased by 2092\n",
      "For 28:\n",
      "Birth change from previous year to 1994 not available.\n",
      "From 1994 to 1995 births decreased by 1384\n",
      "From 1995 to 1996 births decreased by 14626\n",
      "From 1996 to 1997 births grew by 8080\n",
      "From 1997 to 1998 births grew by 3377\n",
      "From 1998 to 1999 births grew by 18\n",
      "From 1999 to 2000 births grew by 10436\n",
      "From 2000 to 2001 births decreased by 11179\n",
      "From 2001 to 2002 births decreased by 4362\n",
      "From 2002 to 2003 births grew by 9574\n",
      "For 29:\n",
      "Birth change from previous year to 1994 not available.\n",
      "From 1994 to 1995 births decreased by 8396\n",
      "From 1995 to 1996 births grew by 11838\n",
      "From 1996 to 1997 births decreased by 6272\n",
      "From 1997 to 1998 births grew by 2191\n",
      "From 1998 to 1999 births grew by 3660\n",
      "From 1999 to 2000 births grew by 5485\n",
      "From 2000 to 2001 births decreased by 13128\n",
      "From 2001 to 2002 births grew by 1381\n",
      "From 2002 to 2003 births grew by 7501\n",
      "For 30:\n",
      "Birth change from previous year to 1994 not available.\n",
      "From 1994 to 1995 births decreased by 802\n",
      "From 1995 to 1996 births grew by 6337\n",
      "From 1996 to 1997 births decreased by 496\n",
      "From 1997 to 1998 births grew by 4697\n",
      "From 1998 to 1999 births decreased by 2738\n",
      "From 1999 to 2000 births decreased by 6953\n",
      "From 2000 to 2001 births grew by 7365\n",
      "From 2001 to 2002 births grew by 2158\n",
      "From 2002 to 2003 births grew by 2008\n",
      "For 31:\n",
      "Birth change from previous year to 1994 not available.\n",
      "From 1994 to 1995 births grew by 3619\n",
      "From 1995 to 1996 births decreased by 2988\n",
      "From 1996 to 1997 births decreased by 1320\n",
      "From 1997 to 1998 births decreased by 1096\n",
      "From 1998 to 1999 births decreased by 5986\n",
      "From 1999 to 2000 births grew by 12908\n",
      "From 2000 to 2001 births grew by 1565\n",
      "From 2001 to 2002 births decreased by 4002\n",
      "From 2002 to 2003 births decreased by 308\n"
     ]
    }
   ],
   "source": [
    "#difference in each date of the month per year\n",
    "cross_year_differences(cdc_list,2)"
   ]
  },
  {
   "cell_type": "code",
   "execution_count": 59,
   "metadata": {
    "collapsed": false,
    "scrolled": true
   },
   "outputs": [
    {
     "name": "stdout",
     "output_type": "stream",
     "text": [
      "[6, 7, 1, 2, 3, 4, 5]\n",
      "For 1:\n",
      "Birth change from previous year to 1994 not available.\n",
      "From 1994 to 1995 births decreased by 11276\n",
      "From 1995 to 1996 births grew by 11947\n",
      "From 1996 to 1997 births decreased by 4561\n",
      "From 1997 to 1998 births grew by 7040\n",
      "From 1998 to 1999 births grew by 1136\n",
      "From 1999 to 2000 births grew by 12354\n",
      "From 2000 to 2001 births grew by 7874\n",
      "From 2001 to 2002 births grew by 2368\n",
      "From 2002 to 2003 births grew by 14587\n",
      "For 2:\n",
      "Birth change from previous year to 1994 not available.\n",
      "From 1994 to 1995 births decreased by 12633\n",
      "From 1995 to 1996 births grew by 12662\n",
      "From 1996 to 1997 births decreased by 1452\n",
      "From 1997 to 1998 births grew by 15052\n",
      "From 1998 to 1999 births grew by 1597\n",
      "From 1999 to 2000 births grew by 7735\n",
      "From 2000 to 2001 births decreased by 3967\n",
      "From 2001 to 2002 births grew by 16996\n",
      "From 2002 to 2003 births grew by 9243\n",
      "For 3:\n",
      "Birth change from previous year to 1994 not available.\n",
      "From 1994 to 1995 births decreased by 5580\n",
      "From 1995 to 1996 births decreased by 4618\n",
      "From 1996 to 1997 births grew by 12316\n",
      "From 1997 to 1998 births grew by 5342\n",
      "From 1998 to 1999 births grew by 6835\n",
      "From 1999 to 2000 births grew by 14622\n",
      "From 2000 to 2001 births decreased by 4852\n",
      "From 2001 to 2002 births decreased by 2851\n",
      "From 2002 to 2003 births grew by 27260\n",
      "For 4:\n",
      "Birth change from previous year to 1994 not available.\n",
      "From 1994 to 1995 births decreased by 2344\n",
      "From 1995 to 1996 births decreased by 8786\n",
      "From 1996 to 1997 births decreased by 15\n",
      "From 1997 to 1998 births grew by 24510\n",
      "From 1998 to 1999 births grew by 1023\n",
      "From 1999 to 2000 births grew by 17361\n",
      "From 2000 to 2001 births grew by 542\n",
      "From 2001 to 2002 births decreased by 5265\n",
      "From 2002 to 2003 births grew by 7783\n",
      "For 5:\n",
      "Birth change from previous year to 1994 not available.\n",
      "From 1994 to 1995 births decreased by 3231\n",
      "From 1995 to 1996 births decreased by 3527\n",
      "From 1996 to 1997 births decreased by 2609\n",
      "From 1997 to 1998 births grew by 3128\n",
      "From 1998 to 1999 births grew by 16202\n",
      "From 1999 to 2000 births grew by 13053\n",
      "From 2000 to 2001 births grew by 2723\n",
      "From 2001 to 2002 births decreased by 1553\n",
      "From 2002 to 2003 births grew by 5752\n",
      "For 6:\n",
      "Birth change from previous year to 1994 not available.\n",
      "From 1994 to 1995 births decreased by 15152\n",
      "From 1995 to 1996 births decreased by 3319\n",
      "From 1996 to 1997 births decreased by 5421\n",
      "From 1997 to 1998 births grew by 2936\n",
      "From 1998 to 1999 births decreased by 3791\n",
      "From 1999 to 2000 births grew by 19809\n",
      "From 2000 to 2001 births decreased by 15866\n",
      "From 2001 to 2002 births decreased by 8158\n",
      "From 2002 to 2003 births grew by 1675\n",
      "For 7:\n",
      "Birth change from previous year to 1994 not available.\n",
      "From 1994 to 1995 births decreased by 2962\n",
      "From 1995 to 1996 births decreased by 12454\n",
      "From 1996 to 1997 births decreased by 8858\n",
      "From 1997 to 1998 births grew by 2651\n",
      "From 1998 to 1999 births decreased by 5138\n",
      "From 1999 to 2000 births grew by 14463\n",
      "From 2000 to 2001 births decreased by 19335\n",
      "From 2001 to 2002 births decreased by 5744\n",
      "From 2002 to 2003 births grew by 1924\n"
     ]
    }
   ],
   "source": [
    "#difference in each day of the week per year\n",
    "cross_year_differences(cdc_list,3)"
   ]
  },
  {
   "cell_type": "code",
   "execution_count": 67,
   "metadata": {
    "collapsed": false
   },
   "outputs": [
    {
     "name": "stdout",
     "output_type": "stream",
     "text": [
      "[1994, 1995, 1996, 1997, 1998, 1999, 2000, 2001, 2002, 2003]\n",
      "For 1994:\n",
      "Birth change from previous year to 1994 not available.\n",
      "For 1995:\n",
      "From 1994 to 1995 births decreased by 53178\n",
      "For 1996:\n",
      "From 1995 to 1996 births decreased by 8095\n",
      "For 1997:\n",
      "From 1996 to 1997 births decreased by 10600\n",
      "For 1998:\n",
      "From 1997 to 1998 births grew by 60659\n",
      "For 1999:\n",
      "From 1998 to 1999 births grew by 17864\n",
      "For 2000:\n",
      "From 1999 to 2000 births grew by 99397\n",
      "For 2001:\n",
      "From 2000 to 2001 births decreased by 32881\n",
      "For 2002:\n",
      "From 2001 to 2002 births decreased by 4207\n",
      "For 2003:\n",
      "From 2002 to 2003 births grew by 68224\n"
     ]
    }
   ],
   "source": [
    "#difference per year\n",
    "cross_year_differences(cdc_list,0)"
   ]
  }
 ],
 "metadata": {
  "anaconda-cloud": {},
  "kernelspec": {
   "display_name": "Python 3",
   "language": "python",
   "name": "python3"
  },
  "language_info": {
   "codemirror_mode": {
    "name": "ipython",
    "version": 3
   },
   "file_extension": ".py",
   "mimetype": "text/x-python",
   "name": "python",
   "nbconvert_exporter": "python",
   "pygments_lexer": "ipython3",
   "version": "3.4.3"
  }
 },
 "nbformat": 4,
 "nbformat_minor": 1
}
