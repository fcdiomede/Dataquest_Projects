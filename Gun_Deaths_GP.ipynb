{
 "cells": [
  {
   "cell_type": "markdown",
   "metadata": {
    "collapsed": true
   },
   "source": [
    "## Exploring Gun Deaths in the US"
   ]
  },
  {
   "cell_type": "code",
   "execution_count": 2,
   "metadata": {
    "collapsed": false
   },
   "outputs": [
    {
     "name": "stdout",
     "output_type": "stream",
     "text": [
      "[['', 'year', 'month', 'intent', 'police', 'sex', 'age', 'race', 'hispanic', 'place', 'education'], ['1', '2012', '01', 'Suicide', '0', 'M', '34', 'Asian/Pacific Islander', '100', 'Home', '4'], ['2', '2012', '01', 'Suicide', '0', 'F', '21', 'White', '100', 'Street', '3'], ['3', '2012', '01', 'Suicide', '0', 'M', '60', 'White', '100', 'Other specified', '4'], ['4', '2012', '02', 'Suicide', '0', 'M', '64', 'White', '100', 'Home', '4']]\n"
     ]
    }
   ],
   "source": [
    "import csv\n",
    "f = open(\"guns.csv\", \"r\")\n",
    "csvreader = csv.reader(f)\n",
    "data = list(csvreader)\n",
    "print(data[:5])"
   ]
  },
  {
   "cell_type": "markdown",
   "metadata": {
    "collapsed": true
   },
   "source": [
    "### Seperating out header row"
   ]
  },
  {
   "cell_type": "code",
   "execution_count": 3,
   "metadata": {
    "collapsed": false
   },
   "outputs": [
    {
     "name": "stdout",
     "output_type": "stream",
     "text": [
      "['', 'year', 'month', 'intent', 'police', 'sex', 'age', 'race', 'hispanic', 'place', 'education']\n",
      "[['1', '2012', '01', 'Suicide', '0', 'M', '34', 'Asian/Pacific Islander', '100', 'Home', '4'], ['2', '2012', '01', 'Suicide', '0', 'F', '21', 'White', '100', 'Street', '3'], ['3', '2012', '01', 'Suicide', '0', 'M', '60', 'White', '100', 'Other specified', '4'], ['4', '2012', '02', 'Suicide', '0', 'M', '64', 'White', '100', 'Home', '4'], ['5', '2012', '02', 'Suicide', '0', 'M', '31', 'White', '100', 'Other specified', '2']]\n"
     ]
    }
   ],
   "source": [
    "headers = data[0]\n",
    "data = data[1:]\n",
    "print(headers)\n",
    "print(data[:5])"
   ]
  },
  {
   "cell_type": "markdown",
   "metadata": {},
   "source": [
    "### Gun Deaths Per Year"
   ]
  },
  {
   "cell_type": "code",
   "execution_count": 4,
   "metadata": {
    "collapsed": false
   },
   "outputs": [
    {
     "name": "stdout",
     "output_type": "stream",
     "text": [
      "{'2012': 33563, '2013': 33636, '2014': 33599}\n"
     ]
    }
   ],
   "source": [
    "years = [row[1] for row in data]\n",
    "\n",
    "year_counts = {}\n",
    "for year in years:\n",
    "    if year in year_counts:\n",
    "        year_counts[year] += 1\n",
    "    else:\n",
    "        year_counts[year] = 1\n",
    "        \n",
    "print(year_counts)"
   ]
  },
  {
   "cell_type": "markdown",
   "metadata": {},
   "source": [
    "### Gun Deaths Per Month"
   ]
  },
  {
   "cell_type": "code",
   "execution_count": 5,
   "metadata": {
    "collapsed": false
   },
   "outputs": [
    {
     "name": "stdout",
     "output_type": "stream",
     "text": [
      "[datetime.datetime(2012, 1, 1, 0, 0), datetime.datetime(2012, 1, 1, 0, 0), datetime.datetime(2012, 1, 1, 0, 0), datetime.datetime(2012, 2, 1, 0, 0), datetime.datetime(2012, 2, 1, 0, 0)]\n"
     ]
    }
   ],
   "source": [
    "import datetime\n",
    "\n",
    "dates = [datetime.datetime(year = int(row[1]), month = int(row[2]), day = 1) for row in data]\n",
    "print(dates[:5])"
   ]
  },
  {
   "cell_type": "code",
   "execution_count": 6,
   "metadata": {
    "collapsed": false
   },
   "outputs": [
    {
     "name": "stdout",
     "output_type": "stream",
     "text": [
      "{datetime.datetime(2012, 1, 1, 0, 0): 2758,\n",
      " datetime.datetime(2012, 2, 1, 0, 0): 2357,\n",
      " datetime.datetime(2012, 3, 1, 0, 0): 2743,\n",
      " datetime.datetime(2012, 4, 1, 0, 0): 2795,\n",
      " datetime.datetime(2012, 5, 1, 0, 0): 2999,\n",
      " datetime.datetime(2012, 6, 1, 0, 0): 2826,\n",
      " datetime.datetime(2012, 7, 1, 0, 0): 3026,\n",
      " datetime.datetime(2012, 8, 1, 0, 0): 2954,\n",
      " datetime.datetime(2012, 9, 1, 0, 0): 2852,\n",
      " datetime.datetime(2012, 10, 1, 0, 0): 2733,\n",
      " datetime.datetime(2012, 11, 1, 0, 0): 2729,\n",
      " datetime.datetime(2012, 12, 1, 0, 0): 2791,\n",
      " datetime.datetime(2013, 1, 1, 0, 0): 2864,\n",
      " datetime.datetime(2013, 2, 1, 0, 0): 2375,\n",
      " datetime.datetime(2013, 3, 1, 0, 0): 2862,\n",
      " datetime.datetime(2013, 4, 1, 0, 0): 2798,\n",
      " datetime.datetime(2013, 5, 1, 0, 0): 2806,\n",
      " datetime.datetime(2013, 6, 1, 0, 0): 2920,\n",
      " datetime.datetime(2013, 7, 1, 0, 0): 3079,\n",
      " datetime.datetime(2013, 8, 1, 0, 0): 2859,\n",
      " datetime.datetime(2013, 9, 1, 0, 0): 2742,\n",
      " datetime.datetime(2013, 10, 1, 0, 0): 2808,\n",
      " datetime.datetime(2013, 11, 1, 0, 0): 2758,\n",
      " datetime.datetime(2013, 12, 1, 0, 0): 2765,\n",
      " datetime.datetime(2014, 1, 1, 0, 0): 2651,\n",
      " datetime.datetime(2014, 2, 1, 0, 0): 2361,\n",
      " datetime.datetime(2014, 3, 1, 0, 0): 2684,\n",
      " datetime.datetime(2014, 4, 1, 0, 0): 2862,\n",
      " datetime.datetime(2014, 5, 1, 0, 0): 2864,\n",
      " datetime.datetime(2014, 6, 1, 0, 0): 2931,\n",
      " datetime.datetime(2014, 7, 1, 0, 0): 2884,\n",
      " datetime.datetime(2014, 8, 1, 0, 0): 2970,\n",
      " datetime.datetime(2014, 9, 1, 0, 0): 2914,\n",
      " datetime.datetime(2014, 10, 1, 0, 0): 2865,\n",
      " datetime.datetime(2014, 11, 1, 0, 0): 2756,\n",
      " datetime.datetime(2014, 12, 1, 0, 0): 2857}\n"
     ]
    }
   ],
   "source": [
    "import pprint\n",
    "\n",
    "date_counts = {}\n",
    "for date in dates:\n",
    "    if date in date_counts:\n",
    "        date_counts[date] += 1\n",
    "    else:\n",
    "        date_counts[date] = 1\n",
    "        \n",
    "pprint.pprint(date_counts)"
   ]
  },
  {
   "cell_type": "markdown",
   "metadata": {},
   "source": [
    "### Gun Deaths by Sex and Race"
   ]
  },
  {
   "cell_type": "code",
   "execution_count": 7,
   "metadata": {
    "collapsed": false
   },
   "outputs": [
    {
     "name": "stdout",
     "output_type": "stream",
     "text": [
      "{'F': 14449, 'M': 86349}\n"
     ]
    }
   ],
   "source": [
    "sexes = [row[5] for row in data]\n",
    "\n",
    "sex_counts = {}\n",
    "for item in sexes:\n",
    "    if item in sex_counts:\n",
    "        sex_counts[item] += 1\n",
    "    else:\n",
    "        sex_counts[item] = 1\n",
    "\n",
    "pprint.pprint(sex_counts)"
   ]
  },
  {
   "cell_type": "code",
   "execution_count": 8,
   "metadata": {
    "collapsed": false
   },
   "outputs": [
    {
     "name": "stdout",
     "output_type": "stream",
     "text": [
      "{'Asian/Pacific Islander': 1326,\n",
      " 'Black': 23296,\n",
      " 'Hispanic': 9022,\n",
      " 'Native American/Native Alaskan': 917,\n",
      " 'White': 66237}\n"
     ]
    }
   ],
   "source": [
    "races = [row[7] for row in data]\n",
    "\n",
    "race_counts = {}\n",
    "for item in races:\n",
    "    if item in race_counts:\n",
    "        race_counts[item] += 1\n",
    "    else:\n",
    "        race_counts[item] = 1\n",
    "\n",
    "pprint.pprint(race_counts)"
   ]
  },
  {
   "cell_type": "markdown",
   "metadata": {},
   "source": [
    "### Observations\n",
    "\n",
    " - Gun Deaths by Year: Not too much overall difference in the year counts from 2012 to 2014.\n",
    " - Gun Deaths by Month: Seems to peak around Summer time- could be useful to know breakdown of intent during each month or Season. Lowest in Feburary across all three years. Further analysis needed to determine if there is a siginificant correlation between season and gun deaths.\n",
    " - Gun Deaths by Gender: Males are much more affected by gun deaths than females.\n",
    " - Gun Deaths by Race: Highest number is amoung Whites, with the other categories making up about half as many gun deaths combined. Could be useful to know population percentage of each race category to see how exactly gun deaths are distributed among different races. "
   ]
  },
  {
   "cell_type": "markdown",
   "metadata": {},
   "source": [
    "### Reading in Census Data"
   ]
  },
  {
   "cell_type": "code",
   "execution_count": 9,
   "metadata": {
    "collapsed": false
   },
   "outputs": [
    {
     "name": "stdout",
     "output_type": "stream",
     "text": [
      "[['Id', 'Year', 'Id', 'Sex', 'Id', 'Hispanic Origin', 'Id', 'Id2', 'Geography', 'Total', 'Race Alone - White', 'Race Alone - Hispanic', 'Race Alone - Black or African American', 'Race Alone - American Indian and Alaska Native', 'Race Alone - Asian', 'Race Alone - Native Hawaiian and Other Pacific Islander', 'Two or More Races'], ['cen42010', 'April 1, 2010 Census', 'totsex', 'Both Sexes', 'tothisp', 'Total', '0100000US', '', 'United States', '308745538', '197318956', '44618105', '40250635', '3739506', '15159516', '674625', '6984195']]\n"
     ]
    }
   ],
   "source": [
    "f = open(\"census.csv\", \"r\")\n",
    "csvreader = csv.reader(f)\n",
    "census = list(csvreader)\n",
    "print(census)"
   ]
  },
  {
   "cell_type": "code",
   "execution_count": 10,
   "metadata": {
    "collapsed": false,
    "scrolled": true
   },
   "outputs": [
    {
     "name": "stdout",
     "output_type": "stream",
     "text": [
      "{'Asian/Pacific Islander': 15834141,\n",
      " 'Black': 40250635,\n",
      " 'Hispanic': 44618105,\n",
      " 'Native American/Native Alaskan': 3739506,\n",
      " 'White': 197318956}\n"
     ]
    }
   ],
   "source": [
    "#map each key from race_counts to pop count of race from census\n",
    "Census_Asian = int(census[1][14])\n",
    "Census_Islander = int(census[1][15])\n",
    "Census_Black = int(census[1][12])\n",
    "Census_Hispanic = int(census[1][11])\n",
    "Census_Native = int(census[1][13])\n",
    "Census_White = int(census[1][10])\n",
    "\n",
    "mapping = {\"Asian/Pacific Islander\" : Census_Asian + Census_Islander,\n",
    "          \"Black\" : Census_Black,\n",
    "          \"Hispanic\" : Census_Hispanic,\n",
    "          \"Native American/Native Alaskan\" : Census_Native,\n",
    "          \"White\" : Census_White}\n",
    "\n",
    "pprint.pprint(mapping)"
   ]
  },
  {
   "cell_type": "code",
   "execution_count": 11,
   "metadata": {
    "collapsed": false,
    "scrolled": true
   },
   "outputs": [
    {
     "name": "stdout",
     "output_type": "stream",
     "text": [
      "{'Asian/Pacific Islander': 8.374309664161762,\n",
      " 'Black': 57.8773477735196,\n",
      " 'Hispanic': 20.220491210910907,\n",
      " 'Native American/Native Alaskan': 24.521955573811088,\n",
      " 'White': 33.56849303419181}\n"
     ]
    }
   ],
   "source": [
    "race_per_hunderdk = {}\n",
    "for key in race_counts:\n",
    "    race_per_hunderdk[key] = (race_counts[key] / mapping[key]) * 100000\n",
    "    \n",
    "pprint.pprint(race_per_hunderdk)"
   ]
  },
  {
   "cell_type": "markdown",
   "metadata": {},
   "source": [
    "### Murder Rate per Race"
   ]
  },
  {
   "cell_type": "code",
   "execution_count": 12,
   "metadata": {
    "collapsed": false
   },
   "outputs": [
    {
     "name": "stdout",
     "output_type": "stream",
     "text": [
      "{'Asian/Pacific Islander': 559,\n",
      " 'Black': 19510,\n",
      " 'Hispanic': 5634,\n",
      " 'Native American/Native Alaskan': 326,\n",
      " 'White': 9147}\n"
     ]
    }
   ],
   "source": [
    "intents = [row[3] for row in data]\n",
    "races = [row[7] for row in data]\n",
    "homicide_race_counts = {}\n",
    "for i, race in enumerate(races):\n",
    "    if intents[i] == \"Homicide\":\n",
    "        if race in homicide_race_counts:\n",
    "            homicide_race_counts[race] += 1\n",
    "        else:\n",
    "            homicide_race_counts[race] = 1\n",
    "            \n",
    "pprint.pprint(homicide_race_counts)"
   ]
  },
  {
   "cell_type": "code",
   "execution_count": 13,
   "metadata": {
    "collapsed": false
   },
   "outputs": [
    {
     "name": "stdout",
     "output_type": "stream",
     "text": [
      "{'Asian/Pacific Islander': 3.530346230970155,\n",
      " 'Black': 48.471284987180944,\n",
      " 'Hispanic': 12.627161104219914,\n",
      " 'Native American/Native Alaskan': 8.717729026240365,\n",
      " 'White': 4.6356417981453335}\n"
     ]
    }
   ],
   "source": [
    "homicide_per_hunderdk = {}\n",
    "\n",
    "for key in homicide_race_counts:\n",
    "    homicide_per_hunderdk[key] = (homicide_race_counts[key] / mapping[key]) * 100000\n",
    "\n",
    "pprint.pprint(homicide_per_hunderdk)"
   ]
  },
  {
   "cell_type": "markdown",
   "metadata": {},
   "source": [
    "### Observations - Homicide Rates per Race\n",
    "\n",
    " - Homicide rate most strongly effects the Black racial category\n",
    " - White racial category relatively unaffected compared to other miniority racail categories"
   ]
  },
  {
   "cell_type": "markdown",
   "metadata": {},
   "source": [
    "### Next Steps\n",
    "\n",
    " - Explore correlation between time of year and homicide rate\n",
    " - Explore homicide rate by gender\n",
    " - Explore rates of intents by gender and race\n",
    " - Explore gun deaths by locations and education"
   ]
  },
  {
   "cell_type": "markdown",
   "metadata": {},
   "source": [
    "### Homicide Rate and Month"
   ]
  },
  {
   "cell_type": "code",
   "execution_count": 16,
   "metadata": {
    "collapsed": false
   },
   "outputs": [
    {
     "name": "stdout",
     "output_type": "stream",
     "text": [
      "{1: 2829,\n",
      " 2: 2178,\n",
      " 3: 2780,\n",
      " 4: 2845,\n",
      " 5: 2976,\n",
      " 6: 3130,\n",
      " 7: 3269,\n",
      " 8: 3125,\n",
      " 9: 2966,\n",
      " 10: 2968,\n",
      " 11: 2919,\n",
      " 12: 3191}\n"
     ]
    }
   ],
   "source": [
    "month_homicide_rate = {}\n",
    "for row in data:\n",
    "    month = int(row[2])\n",
    "    intent = row[3]\n",
    "    if intent == \"Homicide\":\n",
    "        if month in month_homicide_rate:\n",
    "            month_homicide_rate[month] += 1\n",
    "        else:\n",
    "            month_homicide_rate[month] = 1\n",
    "\n",
    "pprint.pprint(month_homicide_rate)"
   ]
  },
  {
   "cell_type": "code",
   "execution_count": 34,
   "metadata": {
    "collapsed": false
   },
   "outputs": [
    {
     "name": "stdout",
     "output_type": "stream",
     "text": [
      "Maximum Homicide Deaths- 7: 3269\n"
     ]
    }
   ],
   "source": [
    "max_key = max(month_homicide_rate, key=lambda k: month_homicide_rate[k])\n",
    "print(\"Maximum Homicide Deaths- \" + str(max_key) + \": \" + str(month_homicide_rate[max_key]))"
   ]
  },
  {
   "cell_type": "code",
   "execution_count": 37,
   "metadata": {
    "collapsed": false
   },
   "outputs": [
    {
     "name": "stdout",
     "output_type": "stream",
     "text": [
      "Minimum Homicide Deaths- 2: 2178\n"
     ]
    }
   ],
   "source": [
    "min_key = min(month_homicide_rate, key=lambda k: month_homicide_rate[k])\n",
    "print(\"Minimum Homicide Deaths- \" + str(min_key) + \": \" + str(month_homicide_rate[min_key]))"
   ]
  },
  {
   "cell_type": "markdown",
   "metadata": {},
   "source": [
    " - Maximum gun deaths occured in July, with higher values from June until August\n",
    " - Also have higher value in December\n",
    " - Lowest value in Feburary- much lower than values during the other months from 2012-2014\n",
    " - Would be useful to display this data graphically"
   ]
  },
  {
   "cell_type": "markdown",
   "metadata": {},
   "source": [
    "### Homicide Rate and Gender"
   ]
  },
  {
   "cell_type": "code",
   "execution_count": 38,
   "metadata": {
    "collapsed": false
   },
   "outputs": [
    {
     "name": "stdout",
     "output_type": "stream",
     "text": [
      "{'F': 5373, 'M': 29803}\n"
     ]
    }
   ],
   "source": [
    "gender_homicide_rate = {}\n",
    "for row in data:\n",
    "    gender = row[5]\n",
    "    intent = row[3]\n",
    "    if intent == \"Homicide\":\n",
    "        if gender in gender_homicide_rate:\n",
    "            gender_homicide_rate[gender] += 1\n",
    "        else:\n",
    "            gender_homicide_rate[gender] = 1\n",
    "\n",
    "pprint.pprint(gender_homicide_rate)"
   ]
  },
  {
   "cell_type": "markdown",
   "metadata": {},
   "source": [
    " - Males are disproportionately effected by homicide rates compared to females"
   ]
  },
  {
   "cell_type": "markdown",
   "metadata": {},
   "source": [
    "### Other Intents"
   ]
  },
  {
   "cell_type": "code",
   "execution_count": 39,
   "metadata": {
    "collapsed": false
   },
   "outputs": [
    {
     "name": "stdout",
     "output_type": "stream",
     "text": [
      "{'NA', 'Suicide', 'Accidental', 'Homicide', 'Undetermined'}\n"
     ]
    }
   ],
   "source": [
    "unique_intents = set(intents)\n",
    "print(unique_intents)"
   ]
  },
  {
   "cell_type": "markdown",
   "metadata": {},
   "source": [
    "### Suicide Rates by Gender and Race"
   ]
  },
  {
   "cell_type": "code",
   "execution_count": 40,
   "metadata": {
    "collapsed": false
   },
   "outputs": [
    {
     "name": "stdout",
     "output_type": "stream",
     "text": [
      "{'F': 8689, 'M': 54486}\n"
     ]
    }
   ],
   "source": [
    "gender_suicide_rate = {}\n",
    "for row in data:\n",
    "    gender = row[5]\n",
    "    intent = row[3]\n",
    "    if intent == \"Suicide\":\n",
    "        if gender in gender_suicide_rate:\n",
    "            gender_suicide_rate[gender] += 1\n",
    "        else:\n",
    "            gender_suicide_rate[gender] = 1\n",
    "\n",
    "pprint.pprint(gender_suicide_rate)"
   ]
  },
  {
   "cell_type": "code",
   "execution_count": 43,
   "metadata": {
    "collapsed": false
   },
   "outputs": [
    {
     "name": "stdout",
     "output_type": "stream",
     "text": [
      "{'Asian/Pacific Islander': 745,\n",
      " 'Black': 3332,\n",
      " 'Hispanic': 3171,\n",
      " 'Native American/Native Alaskan': 555,\n",
      " 'White': 55372}\n"
     ]
    }
   ],
   "source": [
    "suicide_race_counts = {}\n",
    "for row in data:\n",
    "    race = row[7]\n",
    "    intent = row[3]\n",
    "    if intent == \"Suicide\":\n",
    "        if race in suicide_race_counts:\n",
    "            suicide_race_counts[race] += 1\n",
    "        else:\n",
    "            suicide_race_counts[race] = 1\n",
    "            \n",
    "pprint.pprint(suicide_race_counts)"
   ]
  },
  {
   "cell_type": "code",
   "execution_count": 44,
   "metadata": {
    "collapsed": false
   },
   "outputs": [
    {
     "name": "stdout",
     "output_type": "stream",
     "text": [
      "{'Asian/Pacific Islander': 4.705023152187416,\n",
      " 'Black': 8.278130270491385,\n",
      " 'Hispanic': 7.106980451097149,\n",
      " 'Native American/Native Alaskan': 14.841532544673013,\n",
      " 'White': 28.06217969245692}\n"
     ]
    }
   ],
   "source": [
    "suicide_per_hunderdk = {}\n",
    "\n",
    "for key in suicide_race_counts:\n",
    "    suicide_per_hunderdk[key] = (suicide_race_counts[key] / mapping[key]) * 100000\n",
    "\n",
    "pprint.pprint(suicide_per_hunderdk)"
   ]
  },
  {
   "cell_type": "markdown",
   "metadata": {},
   "source": [
    " - Suicide is more common among Males than Females\n",
    " - The White racial category is the most effected by Suicide"
   ]
  },
  {
   "cell_type": "markdown",
   "metadata": {},
   "source": [
    "### Accidental Death Rates by Gender and Race"
   ]
  },
  {
   "cell_type": "code",
   "execution_count": 45,
   "metadata": {
    "collapsed": false
   },
   "outputs": [
    {
     "name": "stdout",
     "output_type": "stream",
     "text": [
      "{'F': 218, 'M': 1421}\n"
     ]
    }
   ],
   "source": [
    "gender_accident_rate = {}\n",
    "for row in data:\n",
    "    gender = row[5]\n",
    "    intent = row[3]\n",
    "    if intent == \"Accidental\":\n",
    "        if gender in gender_accident_rate:\n",
    "            gender_accident_rate[gender] += 1\n",
    "        else:\n",
    "            gender_accident_rate[gender] = 1\n",
    "\n",
    "pprint.pprint(gender_accident_rate)"
   ]
  },
  {
   "cell_type": "code",
   "execution_count": 46,
   "metadata": {
    "collapsed": false
   },
   "outputs": [
    {
     "name": "stdout",
     "output_type": "stream",
     "text": [
      "{'Asian/Pacific Islander': 12,\n",
      " 'Black': 328,\n",
      " 'Hispanic': 145,\n",
      " 'Native American/Native Alaskan': 22,\n",
      " 'White': 1132}\n"
     ]
    }
   ],
   "source": [
    "accident_race_counts = {}\n",
    "for row in data:\n",
    "    race = row[7]\n",
    "    intent = row[3]\n",
    "    if intent == \"Accidental\":\n",
    "        if race in accident_race_counts:\n",
    "            accident_race_counts[race] += 1\n",
    "        else:\n",
    "            accident_race_counts[race] = 1\n",
    "            \n",
    "pprint.pprint(accident_race_counts)"
   ]
  },
  {
   "cell_type": "code",
   "execution_count": 47,
   "metadata": {
    "collapsed": false
   },
   "outputs": [
    {
     "name": "stdout",
     "output_type": "stream",
     "text": [
      "{'Asian/Pacific Islander': 0.07578560782046845,\n",
      " 'Black': 0.814893976206835,\n",
      " 'Hispanic': 0.3249801846133985,\n",
      " 'Native American/Native Alaskan': 0.5883130017708221,\n",
      " 'White': 0.5736904466492313}\n"
     ]
    }
   ],
   "source": [
    "accident_per_hunderdk = {}\n",
    "\n",
    "for key in accident_race_counts:\n",
    "    accident_per_hunderdk[key] = (accident_race_counts[key] / mapping[key]) * 100000\n",
    "\n",
    "pprint.pprint(accident_per_hunderdk)"
   ]
  },
  {
   "cell_type": "markdown",
   "metadata": {},
   "source": [
    " - Overall, less accidental deaths compared to Homicides or Suicides\n",
    " - Males more strongly effected than Females\n",
    " - Black racial category most effected by accidental deaths\n",
    " \n",
    "##### Obs: \n",
    " - Could be useful to write a function that takes intent and race/gender arguement and returns dictionary with value by race/gender for specified intent"
   ]
  },
  {
   "cell_type": "markdown",
   "metadata": {},
   "source": [
    "### Function to Calculate Death Rate by Intent and Grouping"
   ]
  },
  {
   "cell_type": "code",
   "execution_count": 60,
   "metadata": {
    "collapsed": false
   },
   "outputs": [],
   "source": [
    "def death_rate(intent, race_or_gender):\n",
    "    deaths = {}\n",
    "    per_hunderdk = False\n",
    "    for row in data:\n",
    "        if race_or_gender.lower() == \"race\": \n",
    "            group = row[7]\n",
    "            per_hunderdk = True\n",
    "        elif race_or_gender.lower() == \"gender\":\n",
    "            group = row[5]\n",
    "        else:\n",
    "            raise Exception(\"Please input either 'race' or 'gender.'\")\n",
    "        death_type = row[3]\n",
    "        if death_type == intent:\n",
    "            if group in deaths:\n",
    "                deaths[group] += 1\n",
    "            else:\n",
    "                deaths[group] = 1\n",
    "            \n",
    "    if per_hunderdk == True:\n",
    "        death_per_hunderedk = {}\n",
    "        for key in deaths:\n",
    "            death_per_hunderdk[key] = (death[key] / mapping[key]) * 100000\n",
    "\n",
    "        pprint.pprint(death_per_hundredk)\n",
    "        \n",
    "    else:\n",
    "        pprint.pprint(deaths)\n",
    "    "
   ]
  },
  {
   "cell_type": "code",
   "execution_count": 62,
   "metadata": {
    "collapsed": false
   },
   "outputs": [
    {
     "name": "stdout",
     "output_type": "stream",
     "text": [
      "{'F': 5373, 'M': 29803}\n"
     ]
    }
   ],
   "source": [
    "death_rate(\"Homicide\", \"gender\")"
   ]
  },
  {
   "cell_type": "code",
   "execution_count": 63,
   "metadata": {
    "collapsed": false
   },
   "outputs": [
    {
     "ename": "Exception",
     "evalue": "Please input either 'race' or 'gender.'",
     "output_type": "error",
     "traceback": [
      "\u001b[1;31m\u001b[0m",
      "\u001b[1;31mException\u001b[0mTraceback (most recent call last)",
      "\u001b[1;32m<ipython-input-63-ed165c950a7d>\u001b[0m in \u001b[0;36m<module>\u001b[1;34m()\u001b[0m\n\u001b[0;32m      1\u001b[0m \u001b[1;31m#Checking to see if function will break if input is invalid\u001b[0m\u001b[1;33m\u001b[0m\u001b[1;33m\u001b[0m\u001b[0m\n\u001b[1;32m----> 2\u001b[1;33m \u001b[0mdeath_rate\u001b[0m\u001b[1;33m(\u001b[0m\u001b[1;34m\"Homicide\"\u001b[0m\u001b[1;33m,\u001b[0m \u001b[1;34m\"Gum\"\u001b[0m\u001b[1;33m)\u001b[0m\u001b[1;33m\u001b[0m\u001b[0m\n\u001b[0m",
      "\u001b[1;32m<ipython-input-60-dd0c9cc23416>\u001b[0m in \u001b[0;36mdeath_rate\u001b[1;34m(intent, race_or_gender)\u001b[0m\n\u001b[0;32m      9\u001b[0m             \u001b[0mgroup\u001b[0m \u001b[1;33m=\u001b[0m \u001b[0mrow\u001b[0m\u001b[1;33m[\u001b[0m\u001b[1;36m5\u001b[0m\u001b[1;33m]\u001b[0m\u001b[1;33m\u001b[0m\u001b[0m\n\u001b[0;32m     10\u001b[0m         \u001b[1;32melse\u001b[0m\u001b[1;33m:\u001b[0m\u001b[1;33m\u001b[0m\u001b[0m\n\u001b[1;32m---> 11\u001b[1;33m             \u001b[1;32mraise\u001b[0m \u001b[0mException\u001b[0m\u001b[1;33m(\u001b[0m\u001b[1;34m\"Please input either 'race' or 'gender.'\"\u001b[0m\u001b[1;33m)\u001b[0m\u001b[1;33m\u001b[0m\u001b[0m\n\u001b[0m\u001b[0;32m     12\u001b[0m         \u001b[0mdeath_type\u001b[0m \u001b[1;33m=\u001b[0m \u001b[0mrow\u001b[0m\u001b[1;33m[\u001b[0m\u001b[1;36m3\u001b[0m\u001b[1;33m]\u001b[0m\u001b[1;33m\u001b[0m\u001b[0m\n\u001b[0;32m     13\u001b[0m         \u001b[1;32mif\u001b[0m \u001b[0mdeath_type\u001b[0m \u001b[1;33m==\u001b[0m \u001b[0mintent\u001b[0m\u001b[1;33m:\u001b[0m\u001b[1;33m\u001b[0m\u001b[0m\n",
      "\u001b[1;31mException\u001b[0m: Please input either 'race' or 'gender.'"
     ]
    }
   ],
   "source": [
    "#Checking to see if function will break if input is invalid\n",
    "death_rate(\"Homicide\", \"Gum\")"
   ]
  },
  {
   "cell_type": "markdown",
   "metadata": {},
   "source": [
    "### Gun Deaths by Location and Education"
   ]
  },
  {
   "cell_type": "code",
   "execution_count": 64,
   "metadata": {
    "collapsed": false
   },
   "outputs": [
    {
     "name": "stdout",
     "output_type": "stream",
     "text": [
      "{'Farm': 470,\n",
      " 'Home': 60486,\n",
      " 'Industrial/construction': 248,\n",
      " 'NA': 1384,\n",
      " 'Other specified': 13751,\n",
      " 'Other unspecified': 8867,\n",
      " 'Residential institution': 203,\n",
      " 'School/instiution': 671,\n",
      " 'Sports': 128,\n",
      " 'Street': 11151,\n",
      " 'Trade/service area': 3439}\n"
     ]
    }
   ],
   "source": [
    "location = [row[9] for row in data]\n",
    "\n",
    "location_counts = {}\n",
    "for item in location:\n",
    "    if item in location_counts:\n",
    "        location_counts[item] += 1\n",
    "    else:\n",
    "        location_counts[item] = 1\n",
    "\n",
    "pprint.pprint(location_counts)"
   ]
  },
  {
   "cell_type": "code",
   "execution_count": 65,
   "metadata": {
    "collapsed": false
   },
   "outputs": [
    {
     "name": "stdout",
     "output_type": "stream",
     "text": [
      "{'1': 21823, '2': 42927, '3': 21680, '4': 12946, '5': 1369, 'NA': 53}\n"
     ]
    }
   ],
   "source": [
    "education = [row[10] for row in data]\n",
    "\n",
    "education_counts = {}\n",
    "for item in education:\n",
    "    if item in education_counts:\n",
    "        education_counts[item] += 1\n",
    "    else:\n",
    "        education_counts[item] = 1\n",
    "\n",
    "pprint.pprint(education_counts)"
   ]
  },
  {
   "cell_type": "markdown",
   "metadata": {},
   "source": [
    " - Majority of gun deaths happened at home\n",
    " - Miniority of gun deaths happened through sports\n",
    " - Majority of gun deaths happened at 2 education category level- graduated from high school or equiv.\n",
    " - Minority of gun deaths at education level 4- at least graduated from college\n",
    " - Correlation between education level and gun deaths?\n",
    " <br><br>\n",
    " - Should combine education category 5- not available with NA category"
   ]
  },
  {
   "cell_type": "code",
   "execution_count": 67,
   "metadata": {
    "collapsed": false
   },
   "outputs": [
    {
     "name": "stdout",
     "output_type": "stream",
     "text": [
      "{'1': 21823, '2': 42927, '3': 21680, '4': 12946, '5': 1422}\n"
     ]
    }
   ],
   "source": [
    "#cleaning data\n",
    "education = [row[10] for row in data]\n",
    "\n",
    "education_counts = {}\n",
    "for item in education:\n",
    "    if item == \"NA\":\n",
    "        item = \"5\"\n",
    "    if item in education_counts:\n",
    "        education_counts[item] += 1\n",
    "    else:\n",
    "        education_counts[item] = 1\n",
    "\n",
    "pprint.pprint(education_counts)"
   ]
  },
  {
   "cell_type": "code",
   "execution_count": null,
   "metadata": {
    "collapsed": true
   },
   "outputs": [],
   "source": []
  }
 ],
 "metadata": {
  "kernelspec": {
   "display_name": "Python 3",
   "language": "python",
   "name": "python3"
  },
  "language_info": {
   "codemirror_mode": {
    "name": "ipython",
    "version": 3
   },
   "file_extension": ".py",
   "mimetype": "text/x-python",
   "name": "python",
   "nbconvert_exporter": "python",
   "pygments_lexer": "ipython3",
   "version": "3.4.3"
  }
 },
 "nbformat": 4,
 "nbformat_minor": 0
}
